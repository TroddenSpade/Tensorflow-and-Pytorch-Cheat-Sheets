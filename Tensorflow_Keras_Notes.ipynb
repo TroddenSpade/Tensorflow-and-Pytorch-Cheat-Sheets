{
  "nbformat": 4,
  "nbformat_minor": 0,
  "metadata": {
    "colab": {
      "name": "Tensorflow-Keras Notes.ipynb",
      "provenance": [],
      "collapsed_sections": [
        "Cc5t80oJ7gQF",
        "olVtN5idCxfb",
        "N5y9eCczDHWz",
        "_L8VEz02DXPC",
        "yIdDIIOyDovr",
        "iz2kDqU2C06C",
        "f-zJPHP00fEi"
      ],
      "toc_visible": true
    },
    "kernelspec": {
      "name": "python3",
      "display_name": "Python 3"
    },
    "language_info": {
      "name": "python"
    }
  },
  "cells": [
    {
      "cell_type": "markdown",
      "source": [
        "## tf Functions"
      ],
      "metadata": {
        "id": "VjXgUcGktvVV"
      }
    },
    {
      "cell_type": "code",
      "source": [
        "import tensorflow as tf"
      ],
      "metadata": {
        "id": "tHtd6_3uukps"
      },
      "execution_count": 2,
      "outputs": []
    },
    {
      "cell_type": "markdown",
      "source": [
        "tf.zeros"
      ],
      "metadata": {
        "id": "YwLijA5HqXAT"
      }
    },
    {
      "cell_type": "markdown",
      "source": [
        "tf.ones"
      ],
      "metadata": {
        "id": "evSEfvaiqY1S"
      }
    },
    {
      "cell_type": "markdown",
      "source": [
        "### Reshape\n",
        "\n",
        "Reshapes a tensor.\n",
        "\n",
        "```\n",
        "tf.reshape(\n",
        "    tensor, shape, name=None\n",
        ")\n",
        "```"
      ],
      "metadata": {
        "id": "VP2e_BwdtzGj"
      }
    },
    {
      "cell_type": "code",
      "source": [
        "t1 = tf.constant([[1, 2, 3],[4, 5, 6]])\n",
        "print(t1.numpy())\n",
        "\n",
        "t2 = tf.reshape(t1, [6])\n",
        "print(t2.numpy())\n",
        "\n",
        "t3 = tf.reshape(t2, [3, 2])\n",
        "print(t3.numpy())"
      ],
      "metadata": {
        "colab": {
          "base_uri": "https://localhost:8080/"
        },
        "id": "f7DPVy68t_Py",
        "outputId": "60dcc560-5513-4e77-9e5c-accf5081b814"
      },
      "execution_count": null,
      "outputs": [
        {
          "output_type": "stream",
          "name": "stdout",
          "text": [
            "[[1 2 3]\n",
            " [4 5 6]]\n",
            "[1 2 3 4 5 6]\n",
            "[[1 2]\n",
            " [3 4]\n",
            " [5 6]]\n"
          ]
        }
      ]
    },
    {
      "cell_type": "markdown",
      "source": [
        "### Range\n",
        "\n",
        "Creates a sequence of numbers.\n",
        "\n",
        "```\n",
        "tf.range(limit, delta=1, dtype=None, name='range')\n",
        "tf.range(start, limit, delta=1, dtype=None, name='range')\n",
        "```\n",
        "\n",
        "*Creates a sequence of numbers that begins at `start` and extends by increments of `delta` up to but not including `limit`.*"
      ],
      "metadata": {
        "id": "qqfNwHPQu-Pq"
      }
    },
    {
      "cell_type": "code",
      "source": [
        "start = 3\n",
        "limit = 1\n",
        "delta = -0.5\n",
        "tf.range(start, limit, delta)"
      ],
      "metadata": {
        "colab": {
          "base_uri": "https://localhost:8080/"
        },
        "id": "7iQ5EjKfvGl9",
        "outputId": "ecb954c4-887a-44db-ac05-24888ed51a3e"
      },
      "execution_count": null,
      "outputs": [
        {
          "output_type": "execute_result",
          "data": {
            "text/plain": [
              "<tf.Tensor: shape=(4,), dtype=float32, numpy=array([3. , 2.5, 2. , 1.5], dtype=float32)>"
            ]
          },
          "metadata": {},
          "execution_count": 23
        }
      ]
    },
    {
      "cell_type": "markdown",
      "source": [
        "## tf.math"
      ],
      "metadata": {
        "id": "0yN_neFIewHv"
      }
    },
    {
      "cell_type": "markdown",
      "source": [
        "### abs"
      ],
      "metadata": {
        "id": "hN2U2HPWfJo9"
      }
    },
    {
      "cell_type": "markdown",
      "source": [
        "### add"
      ],
      "metadata": {
        "id": "_FpFIdV-fNxv"
      }
    },
    {
      "cell_type": "markdown",
      "source": [
        "### Sqrt"
      ],
      "metadata": {
        "id": "c3tQqjiCfTzg"
      }
    },
    {
      "cell_type": "markdown",
      "source": [
        "## tf.nn\n",
        "\n",
        "Primitive Neural Net (NN) Operations.\n",
        "\n"
      ],
      "metadata": {
        "id": "N-aQ0k7WchAv"
      }
    },
    {
      "cell_type": "markdown",
      "source": [
        "### ReLU\n",
        "\n",
        "Computes rectified linear: `max(features, 0)`.\n",
        "\n",
        "\n",
        "```\n",
        "tf.nn.relu(\n",
        "    features, name=None\n",
        ")\n",
        "```"
      ],
      "metadata": {
        "id": "4kxJIGiqcjZf"
      }
    },
    {
      "cell_type": "markdown",
      "source": [
        "### Leaky ReLU\n",
        "\n",
        "Compute the Leaky ReLU activation function.\n",
        "\n",
        "\n",
        "```\n",
        "tf.nn.leaky_relu(\n",
        "    features, alpha=0.2, name=None\n",
        ")\n",
        "```"
      ],
      "metadata": {
        "id": "m2audXSzdPvv"
      }
    },
    {
      "cell_type": "markdown",
      "source": [
        "### Softmax\n",
        "\n",
        "Computes softmax activations.\n",
        "\n",
        "```\n",
        "tf.nn.softmax(\n",
        "    logits, axis=None, name=None\n",
        ")\n",
        "```"
      ],
      "metadata": {
        "id": "l3lxJs6fdy6P"
      }
    },
    {
      "cell_type": "markdown",
      "source": [
        "### Log Softmax\n",
        "\n",
        "Computes log softmax activations.\n",
        "\n",
        "```\n",
        "tf.nn.log_softmax(\n",
        "    logits, axis=None, name=None\n",
        ")\n",
        "```"
      ],
      "metadata": {
        "id": "TNplNcRTeQGX"
      }
    },
    {
      "cell_type": "markdown",
      "source": [
        "## tf.random"
      ],
      "metadata": {
        "id": "Z9_ahl-uge8P"
      }
    },
    {
      "cell_type": "markdown",
      "source": [
        "### Uniform\n",
        "\n",
        "Outputs random values from a uniform distribution.\n",
        "\n",
        "```\n",
        "tf.random.uniform(\n",
        "    shape, minval=0, maxval=None, dtype=tf.dtypes.float32, seed=None, name=None\n",
        ")\n",
        "```"
      ],
      "metadata": {
        "id": "2AEiKVITq1Uk"
      }
    },
    {
      "cell_type": "markdown",
      "source": [
        "### Normal\n",
        "\n",
        "Outputs random values from a normal distribution.\n",
        "\n",
        "```\n",
        "tf.random.normal(\n",
        "    shape, mean=0.0, stddev=1.0, dtype=tf.dtypes.float32, seed=None, name=None\n",
        ")\n",
        "```"
      ],
      "metadata": {
        "id": "qw-q8LhPrcT8"
      }
    },
    {
      "cell_type": "markdown",
      "source": [
        "### Gamma\n",
        "\n",
        "Draws shape samples from each of the given Gamma distribution(s).\n",
        "\n",
        "\n",
        "```\n",
        "tf.random.gamma(\n",
        "    shape, alpha, beta=None, dtype=tf.dtypes.float32, seed=None, name=None\n",
        ")\n",
        "```"
      ],
      "metadata": {
        "id": "XRgpbpa4tYUD"
      }
    },
    {
      "cell_type": "markdown",
      "source": [
        "### Poisson\n",
        "\n",
        "Draws shape samples from each of the given Poisson distribution(s).\n",
        "\n",
        "```\n",
        "tf.random.poisson(\n",
        "    shape, lam, dtype=tf.dtypes.float32, seed=None, name=None\n",
        ")\n",
        "```"
      ],
      "metadata": {
        "id": "Vpaw-IbiuRgz"
      }
    },
    {
      "cell_type": "markdown",
      "source": [
        "### Categorical\n",
        "\n",
        "Draws samples from a categorical distribution.\n",
        "\n",
        "```\n",
        "tf.random.categorical(\n",
        "    logits, num_samples, dtype=None, seed=None, name=None\n",
        ")\n",
        "```"
      ],
      "metadata": {
        "id": "K6zNAeJVucXr"
      }
    },
    {
      "cell_type": "code",
      "source": [
        "samples = tf.random.categorical(tf.math.log([[0.5, 0.5]]), 5)\n",
        "samples"
      ],
      "metadata": {
        "colab": {
          "base_uri": "https://localhost:8080/"
        },
        "id": "_LDP9z_Guh-I",
        "outputId": "c49cc091-04ca-43f2-cdeb-6670f57d547a"
      },
      "execution_count": null,
      "outputs": [
        {
          "output_type": "execute_result",
          "data": {
            "text/plain": [
              "<tf.Tensor: shape=(1, 5), dtype=int64, numpy=array([[1, 0, 1, 1, 0]])>"
            ]
          },
          "metadata": {},
          "execution_count": 5
        }
      ]
    },
    {
      "cell_type": "markdown",
      "source": [
        "### Shuffle\n",
        "\n",
        "Randomly shuffles a tensor along its first dimension.\n",
        "\n",
        "\n",
        "```\n",
        "tf.random.shuffle(\n",
        "    value, seed=None, name=None\n",
        ")\n",
        "```"
      ],
      "metadata": {
        "id": "BxqqmJc8usiT"
      }
    },
    {
      "cell_type": "markdown",
      "source": [
        "## tf.optimizers\n",
        "\n",
        "Public API for tf.keras.optimizers namespace.\n",
        "\n",
        "For more details: [tf.keras.optimizers](https://www.tensorflow.org/api_docs/python/tf/optimizers)"
      ],
      "metadata": {
        "id": "FU708_5z9Rps"
      }
    },
    {
      "cell_type": "markdown",
      "source": [
        "# tf.keras | Keras"
      ],
      "metadata": {
        "id": "6UcTANnUdFtq"
      }
    },
    {
      "cell_type": "markdown",
      "source": [
        "## tf.keras.datasets\n",
        "\n",
        "List of datasets: [tf.keras.datasets](https://www.tensorflow.org/api_docs/python/tf/keras/datasets)"
      ],
      "metadata": {
        "id": "QoEsDojNqkMq"
      }
    },
    {
      "cell_type": "code",
      "source": [
        "mnist = tf.keras.datasets.mnist\n",
        "(train_images, train_labels), (test_images, test_labels) = mnist.load_data()"
      ],
      "metadata": {
        "id": "NB4G7KrFvgkg"
      },
      "execution_count": null,
      "outputs": []
    },
    {
      "cell_type": "markdown",
      "source": [
        "## tf.keras.layers"
      ],
      "metadata": {
        "id": "k-GwY-3tjLKP"
      }
    },
    {
      "cell_type": "markdown",
      "source": [
        "### InputLayer\n",
        "\n",
        "Layer to be used as an entry point into a Network (a graph of layers).\n",
        "\n",
        "```\n",
        "tf.keras.layers.InputLayer(\n",
        "    input_shape=None, batch_size=None, dtype=None, input_tensor=None, sparse=None,\n",
        "    name=None, ragged=None, type_spec=None, **kwargs\n",
        ")\n",
        "```\n",
        "\n",
        "It can either wrap an existing tensor (pass an input_tensor argument) or create a placeholder tensor (pass arguments input_shape, and optionally, dtype)."
      ],
      "metadata": {
        "id": "nTJj6V8fFlwr"
      }
    },
    {
      "cell_type": "markdown",
      "source": [
        "### Dense\n",
        "\n",
        "```\n",
        "tf.keras.layers.Dense(\n",
        "    units, activation=None, use_bias=True,\n",
        "    kernel_initializer='glorot_uniform',\n",
        "    bias_initializer='zeros', kernel_regularizer=None,\n",
        "    bias_regularizer=None, activity_regularizer=None, kernel_constraint=None,\n",
        "    bias_constraint=None, **kwargs\n",
        ")\n",
        "```"
      ],
      "metadata": {
        "id": "S6eGIvudneQA"
      }
    },
    {
      "cell_type": "markdown",
      "source": [
        "### Embedding\n",
        "\n",
        "Turns positive integers (indexes) into dense vectors of fixed size.\n",
        "\n",
        "```\n",
        "tf.keras.layers.Embedding(\n",
        "    input_dim, output_dim, embeddings_initializer='uniform',\n",
        "    embeddings_regularizer=None, activity_regularizer=None,\n",
        "    embeddings_constraint=None, mask_zero=False, input_length=None, **kwargs\n",
        ")\n",
        "```"
      ],
      "metadata": {
        "id": "tw6maDoTFSDg"
      }
    },
    {
      "cell_type": "markdown",
      "source": [
        "### Conv2D\n",
        "\n",
        "```\n",
        "tf.keras.layers.Conv2D(\n",
        "    filters, kernel_size, strides=(1, 1), padding='valid',\n",
        "    data_format=None, dilation_rate=(1, 1), groups=1, activation=None,\n",
        "    use_bias=True, kernel_initializer='glorot_uniform',\n",
        "    bias_initializer='zeros', kernel_regularizer=None,\n",
        "    bias_regularizer=None, activity_regularizer=None, kernel_constraint=None,\n",
        "    bias_constraint=None, **kwargs\n",
        ")\n",
        "```"
      ],
      "metadata": {
        "id": "WWKY2rABnsEK"
      }
    },
    {
      "cell_type": "code",
      "source": [
        "# The inputs are 28x28 RGB images with `channels_last` and the batch size is 4.\n",
        "input_shape = (4, 28, 28, 3)\n",
        "x = tf.random.normal(input_shape)\n",
        "y = tf.keras.layers.Conv2D(2, 3, activation='relu', \n",
        "                           input_shape=input_shape[1:])(x)\n",
        "print(y.shape)"
      ],
      "metadata": {
        "colab": {
          "base_uri": "https://localhost:8080/"
        },
        "id": "Sjx0FpzjoMci",
        "outputId": "3d9fb180-14c1-4115-8529-80ba88f0338f"
      },
      "execution_count": null,
      "outputs": [
        {
          "output_type": "stream",
          "name": "stdout",
          "text": [
            "(4, 26, 26, 2)\n"
          ]
        }
      ]
    },
    {
      "cell_type": "markdown",
      "source": [
        "### Concatenate\n",
        "\n",
        "Layer that concatenates a list of inputs.\n",
        "\n",
        "\n",
        "```\n",
        "tf.keras.layers.Concatenate(\n",
        "    axis=-1, **kwargs\n",
        ")\n",
        "```"
      ],
      "metadata": {
        "id": "Ev7RNDyQVzgR"
      }
    },
    {
      "cell_type": "code",
      "source": [
        "x1 = tf.keras.layers.Dense(8)(tf.reshape(tf.range(10), (5,2)))\n",
        "x2 = tf.keras.layers.Dense(8)(tf.reshape(tf.range(10, 20), (5,2)))\n",
        "concatted = tf.keras.layers.Concatenate()([x1, x2])\n",
        "concatted.shape"
      ],
      "metadata": {
        "colab": {
          "base_uri": "https://localhost:8080/"
        },
        "id": "UqlkNg-zWb5f",
        "outputId": "65a68d62-62fa-42cc-8fea-f4a22498c941"
      },
      "execution_count": 6,
      "outputs": [
        {
          "output_type": "execute_result",
          "data": {
            "text/plain": [
              "TensorShape([5, 16])"
            ]
          },
          "metadata": {},
          "execution_count": 6
        }
      ]
    },
    {
      "cell_type": "markdown",
      "source": [
        "### Flatten\n",
        "\n",
        "Flattens the input. Does not affect the batch size.\n",
        "\n",
        "```\n",
        "tf.keras.layers.Flatten(\n",
        "    data_format=None, **kwargs\n",
        ")\n",
        "```"
      ],
      "metadata": {
        "id": "iD_t4bsSA01v"
      }
    },
    {
      "cell_type": "code",
      "source": [
        "model = tf.keras.Sequential()\n",
        "model.add(tf.keras.layers.Conv2D(64, 3, 3, input_shape=(3, 32, 32)))\n",
        "model.output_shape"
      ],
      "metadata": {
        "colab": {
          "base_uri": "https://localhost:8080/"
        },
        "id": "HPw5wINiBNS3",
        "outputId": "e7df4eb2-305d-450d-d03f-c6b1c60a57b6"
      },
      "execution_count": null,
      "outputs": [
        {
          "output_type": "execute_result",
          "data": {
            "text/plain": [
              "(None, 1, 10, 64)"
            ]
          },
          "metadata": {},
          "execution_count": 24
        }
      ]
    },
    {
      "cell_type": "code",
      "source": [
        "model.add(tf.keras.layers.Flatten())\n",
        "model.output_shape"
      ],
      "metadata": {
        "colab": {
          "base_uri": "https://localhost:8080/"
        },
        "id": "LBwmxqkQBPWJ",
        "outputId": "b33de02b-e234-418f-bf16-b7e381c50d0b"
      },
      "execution_count": null,
      "outputs": [
        {
          "output_type": "execute_result",
          "data": {
            "text/plain": [
              "(None, 640)"
            ]
          },
          "metadata": {},
          "execution_count": 26
        }
      ]
    },
    {
      "cell_type": "markdown",
      "source": [
        "### Dropout\n",
        "\n",
        "The Dropout layer randomly sets input units to 0 with a frequency of rate at each step during training time, which helps prevent overfitting. Inputs not set to $0$ are scaled up by $1/(1 - rate)$ such that the sum over all inputs is unchanged.\n",
        "\n",
        "```\n",
        "tf.keras.layers.Dropout(\n",
        "    rate, noise_shape=None, seed=None, **kwargs\n",
        ")\n",
        "```"
      ],
      "metadata": {
        "id": "CkL9qD7_sTer"
      }
    },
    {
      "cell_type": "code",
      "source": [
        "layer = tf.keras.layers.Dropout(.2, input_shape=(2,))\n",
        "data = tf.range(0, 10, 1, dtype=tf.float32)\n",
        "print(data)\n",
        "\n",
        "outputs = layer(data, training=True)\n",
        "print(outputs)"
      ],
      "metadata": {
        "colab": {
          "base_uri": "https://localhost:8080/"
        },
        "id": "tBWVeIRZs0ad",
        "outputId": "858d6913-6811-4f39-db05-509afe1ca5c1"
      },
      "execution_count": null,
      "outputs": [
        {
          "output_type": "stream",
          "name": "stdout",
          "text": [
            "tf.Tensor([0. 1. 2. 3. 4. 5. 6. 7. 8. 9.], shape=(10,), dtype=float32)\n",
            "tf.Tensor([ 0.    1.25  2.5   3.75  0.    6.25  7.5   8.75 10.   11.25], shape=(10,), dtype=float32)\n"
          ]
        }
      ]
    },
    {
      "cell_type": "markdown",
      "source": [
        "### Activation Layer\n",
        "\n",
        "```\n",
        "tf.keras.layers.Activation(\n",
        "    activation, **kwargs\n",
        ")\n",
        "```\n",
        "\n",
        "*Activation function, such as tf.nn.relu, or string name of built-in activation function, such as \"relu\".*\n",
        "\n"
      ],
      "metadata": {
        "id": "j9wHG4aNn92z"
      }
    },
    {
      "cell_type": "markdown",
      "source": [
        "### ReLU\n",
        "\n",
        "Rectified Linear Unit activation function.\n",
        "\n",
        "```\n",
        "tf.keras.layers.ReLU(\n",
        "    max_value=None, negative_slope=0.0, threshold=0.0, **kwargs\n",
        ")\n",
        "```"
      ],
      "metadata": {
        "id": "gH6WO6ekGq3j"
      }
    },
    {
      "cell_type": "markdown",
      "source": [
        "### LeakyReLU\n",
        "\n",
        "Leaky version of a Rectified Linear Unit.\n",
        "\n",
        "```\n",
        "tf.keras.layers.LeakyReLU(\n",
        "    alpha=0.3, **kwargs\n",
        ")\n",
        "```"
      ],
      "metadata": {
        "id": "xKt7o63RG60q"
      }
    },
    {
      "cell_type": "markdown",
      "source": [
        "### Softmax\n",
        "\n",
        "Softmax activation function.\n",
        "\n",
        "\n",
        "```\n",
        "tf.keras.layers.Softmax(\n",
        "    axis=-1, **kwargs\n",
        ")\n",
        "```"
      ],
      "metadata": {
        "id": "jn_7OiapGzXy"
      }
    },
    {
      "cell_type": "markdown",
      "source": [
        "## tf.keras.activations\n",
        "\n",
        "\n",
        "List of Tensorflow's activation functions: [tf.keras.activations](https://www.tensorflow.org/api_docs/python/tf/keras/activations)"
      ],
      "metadata": {
        "id": "54AcxmYxrfrz"
      }
    },
    {
      "cell_type": "markdown",
      "source": [
        "#### Linear\n",
        "\n",
        "```\n",
        "tf.keras.activations.linear(\n",
        "    x\n",
        ")\n",
        "```"
      ],
      "metadata": {
        "id": "3GIqb_ltpvMg"
      }
    },
    {
      "cell_type": "markdown",
      "source": [
        "#### ReLU\n",
        "\n",
        "```\n",
        "tf.keras.activations.relu(\n",
        "    x, alpha=0.0, max_value=None, threshold=0.0\n",
        ")\n",
        "```"
      ],
      "metadata": {
        "id": "KoklnvtbqLlL"
      }
    },
    {
      "cell_type": "markdown",
      "source": [
        "#### Sigmoid\n",
        "\n",
        "```\n",
        "tf.keras.activations.sigmoid(\n",
        "    x\n",
        ")\n",
        "```"
      ],
      "metadata": {
        "id": "IgyW5ucYq7uz"
      }
    },
    {
      "cell_type": "markdown",
      "source": [
        "#### Softmax\n",
        "\n",
        "```\n",
        "tf.keras.activations.softmax(\n",
        "    x, axis=-1\n",
        ")\n",
        "```\n",
        "The axis argument sets which axis of the input the function is applied along."
      ],
      "metadata": {
        "id": "bPobt0edrCab"
      }
    },
    {
      "cell_type": "markdown",
      "source": [
        "## tf.keras.optimizers\n",
        "\n",
        "List of provided otpimizers: [tf.keras.optimizers](https://www.tensorflow.org/api_docs/python/tf/optimizers)"
      ],
      "metadata": {
        "id": "piFaZVBqf-xo"
      }
    },
    {
      "cell_type": "markdown",
      "source": [
        "### Optimizer Base Class\n",
        "\n",
        "```\n",
        "tf.keras.optimizers.Optimizer(\n",
        "    name, gradient_aggregator=None, gradient_transformers=None, **kwargs\n",
        ")\n",
        "```"
      ],
      "metadata": {
        "id": "mBK3uvTGo2Vd"
      }
    },
    {
      "cell_type": "markdown",
      "source": [
        "### Adam\n",
        "\n",
        "Optimizer that implements the Adam algorithm.\n",
        "\n",
        "```\n",
        "tf.keras.optimizers.Adam(\n",
        "    learning_rate=0.001, beta_1=0.9, beta_2=0.999, epsilon=1e-07, amsgrad=False,\n",
        "    name='Adam', **kwargs\n",
        ")\n",
        "```"
      ],
      "metadata": {
        "id": "6QTihVFIpGzU"
      }
    },
    {
      "cell_type": "markdown",
      "source": [
        "### SGD\n",
        "\n",
        "Gradient descent (with momentum) optimizer.\n",
        "\n",
        "```\n",
        "tf.keras.optimizers.SGD(\n",
        "    learning_rate=0.01, momentum=0.0, nesterov=False, name='SGD', **kwargs\n",
        ")\n",
        "```"
      ],
      "metadata": {
        "id": "MoXbRVDopSTs"
      }
    },
    {
      "cell_type": "markdown",
      "source": [
        "### RMSprop\n",
        "\n",
        "Optimizer that implements the RMSprop algorithm.\n",
        "\n",
        "```\n",
        "tf.keras.optimizers.RMSprop(\n",
        "    learning_rate=0.001, rho=0.9, momentum=0.0, epsilon=1e-07, centered=False,\n",
        "    name='RMSprop', **kwargs\n",
        ")\n",
        "```"
      ],
      "metadata": {
        "id": "v4nz1vSAp5zd"
      }
    },
    {
      "cell_type": "markdown",
      "source": [
        "## tf.keras.losses\n",
        "\n",
        "List of all losses: [tf.keras.losses](https://www.tensorflow.org/api_docs/python/tf/keras/losses)"
      ],
      "metadata": {
        "id": "Cc5t80oJ7gQF"
      }
    },
    {
      "cell_type": "markdown",
      "source": [
        "### Classes"
      ],
      "metadata": {
        "id": "olVtN5idCxfb"
      }
    },
    {
      "cell_type": "markdown",
      "source": [
        "#### Loss\n",
        "\n",
        "Loss base class.\n",
        "\n",
        "```\n",
        "tf.keras.losses.Loss(\n",
        "    reduction=losses_utils.ReductionV2.AUTO, name=None\n",
        ")\n",
        "```"
      ],
      "metadata": {
        "id": "4lCCnqfrC44r"
      }
    },
    {
      "cell_type": "markdown",
      "source": [
        "#### MeanAbsoluteError\n",
        "\n",
        "Computes the mean of absolute difference between labels and predictions.\n",
        "\n",
        "\n",
        "```\n",
        "tf.keras.losses.MeanAbsoluteError(\n",
        "    reduction=losses_utils.ReductionV2.AUTO, name='mean_absolute_error'\n",
        ")\n",
        "```"
      ],
      "metadata": {
        "id": "N5y9eCczDHWz"
      }
    },
    {
      "cell_type": "code",
      "source": [
        "y_true = [[0., 1.], [0., 0.]]\n",
        "y_pred = [[1., 1.], [1., 0.]]\n",
        "\n",
        "mae = tf.keras.losses.MeanAbsoluteError()\n",
        "mae(y_true, y_pred).numpy()"
      ],
      "metadata": {
        "colab": {
          "base_uri": "https://localhost:8080/"
        },
        "id": "Z6_PD6OyDTQp",
        "outputId": "8ea44bd0-931f-422a-9fb8-20f922e61910"
      },
      "execution_count": null,
      "outputs": [
        {
          "output_type": "execute_result",
          "data": {
            "text/plain": [
              "0.5"
            ]
          },
          "metadata": {},
          "execution_count": 12
        }
      ]
    },
    {
      "cell_type": "markdown",
      "source": [
        "#### MeanSquaredError\n",
        "\n",
        "Computes the mean of squares of errors between labels and predictions.\n",
        "\n",
        "```\n",
        "tf.keras.losses.MeanSquaredError(\n",
        "    reduction=losses_utils.ReductionV2.AUTO, name='mean_squared_error'\n",
        ")\n",
        "```"
      ],
      "metadata": {
        "id": "_L8VEz02DXPC"
      }
    },
    {
      "cell_type": "code",
      "source": [
        "y_true = [[0., 1.], [0., 0.]]\n",
        "y_pred = [[1., 1.], [1., 0.]]\n",
        "\n",
        "mse = tf.keras.losses.MeanSquaredError()\n",
        "mse(y_true, y_pred).numpy()"
      ],
      "metadata": {
        "colab": {
          "base_uri": "https://localhost:8080/"
        },
        "id": "I73ZqhNeDmSz",
        "outputId": "39c6381e-8658-4756-d3f7-c010dd98fcb7"
      },
      "execution_count": null,
      "outputs": [
        {
          "output_type": "execute_result",
          "data": {
            "text/plain": [
              "0.5"
            ]
          },
          "metadata": {},
          "execution_count": 13
        }
      ]
    },
    {
      "cell_type": "markdown",
      "source": [
        "#### Huber\n",
        "\n",
        "Computes the Huber loss between `y_true` and `y_pred`.\n",
        "\n",
        "```\n",
        "tf.keras.losses.Huber(\n",
        "    delta=1.0, reduction=losses_utils.ReductionV2.AUTO, name='huber_loss'\n",
        ")\n",
        "```"
      ],
      "metadata": {
        "id": "yIdDIIOyDovr"
      }
    },
    {
      "cell_type": "code",
      "source": [
        "y_true = [[0, 1], [0, 0]]\n",
        "y_pred = [[0.6, 0.4], [0.4, 0.6]]\n",
        "\n",
        "h = tf.keras.losses.Huber()\n",
        "h(y_true, y_pred).numpy()"
      ],
      "metadata": {
        "colab": {
          "base_uri": "https://localhost:8080/"
        },
        "id": "KxbpNVCLD1UD",
        "outputId": "b1bbfb23-15e9-4b11-9c5b-aa1557824d5b"
      },
      "execution_count": null,
      "outputs": [
        {
          "output_type": "execute_result",
          "data": {
            "text/plain": [
              "0.155"
            ]
          },
          "metadata": {},
          "execution_count": 14
        }
      ]
    },
    {
      "cell_type": "markdown",
      "source": [
        "### Functions"
      ],
      "metadata": {
        "id": "iz2kDqU2C06C"
      }
    },
    {
      "cell_type": "markdown",
      "source": [
        "#### Mean Absolute Error\n",
        "\n",
        "Computes the mean absolute error between labels and predictions.\n",
        "\n",
        "Main aliases:\n",
        "\n",
        "`tf.keras.losses.MAE`, `tf.keras.losses.mae`, `tf.keras.losses.mean_absolute_error`, \n",
        "\n",
        "`tf.keras.metrics.MAE`, `tf.keras.metrics.mae`, \n",
        "\n",
        "`tf.losses.MAE`, `tf.losses.mae`, `tf.losses.mean_absolute_error`, \n",
        "\n",
        "`tf.metrics.MAE`, `tf.metrics.mae`, `tf.metrics.mean_absolute_error`\n",
        "\n",
        "```\n",
        "tf.keras.metrics.mean_absolute_error(\n",
        "    y_true, y_pred\n",
        ")\n",
        "```"
      ],
      "metadata": {
        "id": "qqFRhTm3EelU"
      }
    },
    {
      "cell_type": "markdown",
      "source": [
        "#### Mean Squared Error\n",
        "\n",
        "Computes the mean squared error between labels and predictions.\n",
        "\n",
        "Main aliases:\n",
        "\n",
        "`tf.keras.losses.MSE`, `tf.keras.losses.mean_squared_error`, `tf.keras.losses.mse`, \n",
        "\n",
        "`tf.keras.metrics.MSE`, `tf.keras.metrics.mse`,\n",
        "\n",
        "`tf.losses.MSE`, `tf.losses.mean_squared_error`, `tf.losses.mse`,\n",
        "\n",
        "`tf.metrics.MSE`, `tf.metrics.mean_squared_error`, `tf.metrics.mse`\n",
        "\n",
        "```\n",
        "tf.keras.metrics.mean_squared_error(\n",
        "    y_true, y_pred\n",
        ")\n",
        "```"
      ],
      "metadata": {
        "id": "gN4uQ_2IFWei"
      }
    },
    {
      "cell_type": "markdown",
      "source": [
        "#### Categorical Crossentropy\n",
        "\n",
        "Computes the categorical crossentropy loss.\n",
        "\n",
        "Main aliasses:\n",
        "\n",
        "`tf.keras.losses.categorical_crossentropy`, `tf.losses.categorical_crossentropy`, `tf.metrics.categorical_crossentropy`\n",
        "\n",
        "```\n",
        "tf.keras.metrics.categorical_crossentropy(\n",
        "    y_true, y_pred, from_logits=False, label_smoothing=0.0, axis=-1\n",
        ")\n",
        "```"
      ],
      "metadata": {
        "id": "vhgLRVIyF2si"
      }
    },
    {
      "cell_type": "markdown",
      "source": [
        "## Nueral Model"
      ],
      "metadata": {
        "id": "XXxe_V0Np_of"
      }
    },
    {
      "cell_type": "markdown",
      "source": [
        "### Define Network"
      ],
      "metadata": {
        "id": "fEzZ1uIYEwtD"
      }
    },
    {
      "cell_type": "markdown",
      "source": [
        "#### Sequential"
      ],
      "metadata": {
        "id": "f-zJPHP00fEi"
      }
    },
    {
      "cell_type": "code",
      "execution_count": null,
      "metadata": {
        "colab": {
          "base_uri": "https://localhost:8080/"
        },
        "id": "a2g7XnBnNRqm",
        "outputId": "53219662-7e7f-449b-db91-f66cf0cffe35"
      },
      "outputs": [
        {
          "output_type": "stream",
          "name": "stdout",
          "text": [
            "Model: \"sequential_3\"\n",
            "_________________________________________________________________\n",
            " Layer (type)                Output Shape              Param #   \n",
            "=================================================================\n",
            " flatten_2 (Flatten)         (None, 784)               0         \n",
            "                                                                 \n",
            " dense_5 (Dense)             (None, 128)               100480    \n",
            "                                                                 \n",
            " dense_6 (Dense)             (None, 10)                1290      \n",
            "                                                                 \n",
            " softmax_2 (Softmax)         (None, 10)                0         \n",
            "                                                                 \n",
            "=================================================================\n",
            "Total params: 101,770\n",
            "Trainable params: 101,770\n",
            "Non-trainable params: 0\n",
            "_________________________________________________________________\n"
          ]
        }
      ],
      "source": [
        "layers = [\n",
        "  tf.keras.layers.Flatten(input_shape=(28,28)),\n",
        "  tf.keras.layers.Dense(128, activation=tf.nn.relu),\n",
        "  tf.keras.layers.Dense(10),\n",
        "  tf.keras.layers.Softmax()\n",
        "]\n",
        "model = tf.keras.Sequential(layers)\n",
        "model.summary()"
      ]
    },
    {
      "cell_type": "code",
      "source": [
        "model = tf.keras.Sequential()\n",
        "model.add(tf.keras.layers.Flatten(input_shape=(28,28)))\n",
        "model.add(tf.keras.layers.Dense(128, activation=tf.nn.relu))\n",
        "model.add(tf.keras.layers.Dense(10))\n",
        "model.add(tf.keras.layers.Activation('softmax'))\n",
        "model.summary()"
      ],
      "metadata": {
        "id": "qCjqQF3GE8j-",
        "colab": {
          "base_uri": "https://localhost:8080/"
        },
        "outputId": "fe2d190b-567d-4360-a6e7-3d7d7da8fd11"
      },
      "execution_count": null,
      "outputs": [
        {
          "output_type": "stream",
          "name": "stdout",
          "text": [
            "Model: \"sequential_5\"\n",
            "_________________________________________________________________\n",
            " Layer (type)                Output Shape              Param #   \n",
            "=================================================================\n",
            " flatten_4 (Flatten)         (None, 784)               0         \n",
            "                                                                 \n",
            " dense_9 (Dense)             (None, 128)               100480    \n",
            "                                                                 \n",
            " dense_10 (Dense)            (None, 10)                1290      \n",
            "                                                                 \n",
            " activation (Activation)     (None, 10)                0         \n",
            "                                                                 \n",
            "=================================================================\n",
            "Total params: 101,770\n",
            "Trainable params: 101,770\n",
            "Non-trainable params: 0\n",
            "_________________________________________________________________\n"
          ]
        }
      ]
    },
    {
      "cell_type": "markdown",
      "source": [
        "#### Functional"
      ],
      "metadata": {
        "id": "vugwV3FqqIBv"
      }
    },
    {
      "cell_type": "markdown",
      "source": [
        "###  Compile Network"
      ],
      "metadata": {
        "id": "EhTMfcZTFa4D"
      }
    },
    {
      "cell_type": "code",
      "source": [
        "model.compile(optimizer=✬sgd✬, loss=✬mean_squared_error✬)"
      ],
      "metadata": {
        "colab": {
          "base_uri": "https://localhost:8080/",
          "height": 130
        },
        "id": "QcfZV9yXFb_y",
        "outputId": "db4f7339-0389-4804-f299-0bcd8f3c97a5"
      },
      "execution_count": null,
      "outputs": [
        {
          "output_type": "error",
          "ename": "SyntaxError",
          "evalue": "ignored",
          "traceback": [
            "\u001b[0;36m  File \u001b[0;32m\"<ipython-input-2-ab7434a12863>\"\u001b[0;36m, line \u001b[0;32m1\u001b[0m\n\u001b[0;31m    model.compile(optimizer=✬sgd✬, loss=✬mean_squared_error✬)\u001b[0m\n\u001b[0m                                ^\u001b[0m\n\u001b[0;31mSyntaxError\u001b[0m\u001b[0;31m:\u001b[0m invalid character in identifier\n"
          ]
        }
      ]
    },
    {
      "cell_type": "code",
      "source": [
        "lgorithm = SGD(lr=0.1, momentum=0.3)\n",
        "model.compile(optimizer=algorithm, loss=✬mean_squared_error✬)"
      ],
      "metadata": {
        "colab": {
          "base_uri": "https://localhost:8080/",
          "height": 130
        },
        "id": "QEk0hKWyFfOW",
        "outputId": "84855e79-1a21-4dc1-d973-27b68439e328"
      },
      "execution_count": null,
      "outputs": [
        {
          "output_type": "error",
          "ename": "SyntaxError",
          "evalue": "ignored",
          "traceback": [
            "\u001b[0;36m  File \u001b[0;32m\"<ipython-input-3-b34de4cd7eb2>\"\u001b[0;36m, line \u001b[0;32m2\u001b[0m\n\u001b[0;31m    model.compile(optimizer=algorithm, loss=✬mean_squared_error✬)\u001b[0m\n\u001b[0m                                                               ^\u001b[0m\n\u001b[0;31mSyntaxError\u001b[0m\u001b[0;31m:\u001b[0m invalid character in identifier\n"
          ]
        }
      ]
    },
    {
      "cell_type": "markdown",
      "source": [
        "The most common optimization algorithm is stochastic gradient descent, but Keras also\n",
        "supports a suite of other state-of-the-art optimization algorithms that work well with little or\n",
        "no configuration. Perhaps the most commonly used optimization algorithms because of their\n",
        "generally better performance are:\n",
        "\n",
        "❼ Stochastic Gradient Descent, or sgd, that requires the tuning of a learning rate and\n",
        "momentum.\n",
        "\n",
        "❼ Adam, or adam, that requires the tuning of learning rate.\n",
        "\n",
        "❼ RMSprop, or rmsprop, that requires the tuning of learning rate.\n"
      ],
      "metadata": {
        "id": "iLO7lpVMFoGq"
      }
    },
    {
      "cell_type": "markdown",
      "source": [
        "### Fit Network"
      ],
      "metadata": {
        "id": "4aXxZ2QudSLp"
      }
    },
    {
      "cell_type": "code",
      "source": [
        "history = model.fit(X, y, batch_size=10, epochs=100, verbose=0)"
      ],
      "metadata": {
        "colab": {
          "base_uri": "https://localhost:8080/",
          "height": 165
        },
        "id": "HDZJrSGoFivF",
        "outputId": "2b789013-9f69-4ce9-9280-83191b60ac0a"
      },
      "execution_count": null,
      "outputs": [
        {
          "output_type": "error",
          "ename": "NameError",
          "evalue": "ignored",
          "traceback": [
            "\u001b[0;31m---------------------------------------------------------------------------\u001b[0m",
            "\u001b[0;31mNameError\u001b[0m                                 Traceback (most recent call last)",
            "\u001b[0;32m<ipython-input-4-3a149bf65920>\u001b[0m in \u001b[0;36m<module>\u001b[0;34m()\u001b[0m\n\u001b[0;32m----> 1\u001b[0;31m \u001b[0mhistory\u001b[0m \u001b[0;34m=\u001b[0m \u001b[0mmodel\u001b[0m\u001b[0;34m.\u001b[0m\u001b[0mfit\u001b[0m\u001b[0;34m(\u001b[0m\u001b[0mX\u001b[0m\u001b[0;34m,\u001b[0m \u001b[0my\u001b[0m\u001b[0;34m,\u001b[0m \u001b[0mbatch_size\u001b[0m\u001b[0;34m=\u001b[0m\u001b[0;36m10\u001b[0m\u001b[0;34m,\u001b[0m \u001b[0mepochs\u001b[0m\u001b[0;34m=\u001b[0m\u001b[0;36m100\u001b[0m\u001b[0;34m,\u001b[0m \u001b[0mverbose\u001b[0m\u001b[0;34m=\u001b[0m\u001b[0;36m0\u001b[0m\u001b[0;34m)\u001b[0m\u001b[0;34m\u001b[0m\u001b[0;34m\u001b[0m\u001b[0m\n\u001b[0m",
            "\u001b[0;31mNameError\u001b[0m: name 'model' is not defined"
          ]
        }
      ]
    },
    {
      "cell_type": "code",
      "source": [
        "model.train_on_batch(X_real, y_real)"
      ],
      "metadata": {
        "id": "hcUA1N-0bqKq"
      },
      "execution_count": null,
      "outputs": []
    },
    {
      "cell_type": "markdown",
      "source": [
        "### Save Model"
      ],
      "metadata": {
        "id": "B-qCf4OKddfi"
      }
    },
    {
      "cell_type": "code",
      "source": [
        "model.save(✬final_model.h5✬)"
      ],
      "metadata": {
        "colab": {
          "base_uri": "https://localhost:8080/",
          "height": 130
        },
        "id": "ucotm97edV_E",
        "outputId": "52b23840-1e60-4c88-b7c8-16111428033a"
      },
      "execution_count": null,
      "outputs": [
        {
          "output_type": "error",
          "ename": "SyntaxError",
          "evalue": "ignored",
          "traceback": [
            "\u001b[0;36m  File \u001b[0;32m\"<ipython-input-5-ca8d3f25a349>\"\u001b[0;36m, line \u001b[0;32m1\u001b[0m\n\u001b[0;31m    model.save(✬final_model.h5✬)\u001b[0m\n\u001b[0m                          ^\u001b[0m\n\u001b[0;31mSyntaxError\u001b[0m\u001b[0;31m:\u001b[0m invalid character in identifier\n"
          ]
        }
      ]
    },
    {
      "cell_type": "markdown",
      "source": [
        "### Load Model"
      ],
      "metadata": {
        "id": "oKZ1tBEldlrH"
      }
    },
    {
      "cell_type": "code",
      "source": [
        "from keras.models import load_model\n",
        "model = load_model(✬final_model.h5✬)"
      ],
      "metadata": {
        "colab": {
          "base_uri": "https://localhost:8080/",
          "height": 130
        },
        "id": "eoRdQXQGdrZr",
        "outputId": "fbec446f-2e4d-46fd-97da-dc0aa3d455c3"
      },
      "execution_count": null,
      "outputs": [
        {
          "output_type": "error",
          "ename": "SyntaxError",
          "evalue": "ignored",
          "traceback": [
            "\u001b[0;36m  File \u001b[0;32m\"<ipython-input-7-b46775662668>\"\u001b[0;36m, line \u001b[0;32m1\u001b[0m\n\u001b[0;31m    rom keras.models import load_model\u001b[0m\n\u001b[0m            ^\u001b[0m\n\u001b[0;31mSyntaxError\u001b[0m\u001b[0;31m:\u001b[0m invalid syntax\n"
          ]
        }
      ]
    },
    {
      "cell_type": "markdown",
      "source": [
        "### Evaluate Network"
      ],
      "metadata": {
        "id": "ScqPXs4ndsfY"
      }
    },
    {
      "cell_type": "code",
      "source": [
        "loss, accuracy = model.evaluate(X, y)"
      ],
      "metadata": {
        "colab": {
          "base_uri": "https://localhost:8080/",
          "height": 165
        },
        "id": "asVTtd-We8Bc",
        "outputId": "221a57fb-9264-4d5c-f56f-5d582e673d20"
      },
      "execution_count": null,
      "outputs": [
        {
          "output_type": "error",
          "ename": "NameError",
          "evalue": "ignored",
          "traceback": [
            "\u001b[0;31m---------------------------------------------------------------------------\u001b[0m",
            "\u001b[0;31mNameError\u001b[0m                                 Traceback (most recent call last)",
            "\u001b[0;32m<ipython-input-6-28638be0aca1>\u001b[0m in \u001b[0;36m<module>\u001b[0;34m()\u001b[0m\n\u001b[0;32m----> 1\u001b[0;31m \u001b[0mloss\u001b[0m\u001b[0;34m,\u001b[0m \u001b[0maccuracy\u001b[0m \u001b[0;34m=\u001b[0m \u001b[0mmodel\u001b[0m\u001b[0;34m.\u001b[0m\u001b[0mevaluate\u001b[0m\u001b[0;34m(\u001b[0m\u001b[0mX\u001b[0m\u001b[0;34m,\u001b[0m \u001b[0my\u001b[0m\u001b[0;34m)\u001b[0m\u001b[0;34m\u001b[0m\u001b[0;34m\u001b[0m\u001b[0m\n\u001b[0m",
            "\u001b[0;31mNameError\u001b[0m: name 'model' is not defined"
          ]
        }
      ]
    },
    {
      "cell_type": "markdown",
      "source": [
        "### Make Predictions"
      ],
      "metadata": {
        "id": "eMEPwyyvfGaZ"
      }
    },
    {
      "cell_type": "code",
      "source": [
        "predictions = model.predict(X)"
      ],
      "metadata": {
        "id": "zqedHvc7e8f0"
      },
      "execution_count": null,
      "outputs": []
    },
    {
      "cell_type": "code",
      "source": [
        "predictions = model.predict_classes(X)"
      ],
      "metadata": {
        "colab": {
          "base_uri": "https://localhost:8080/",
          "height": 165
        },
        "id": "SyWj-N38fVJl",
        "outputId": "8334cb10-7ecc-42ae-efa7-f5e96d0dc494"
      },
      "execution_count": null,
      "outputs": [
        {
          "output_type": "error",
          "ename": "NameError",
          "evalue": "ignored",
          "traceback": [
            "\u001b[0;31m---------------------------------------------------------------------------\u001b[0m",
            "\u001b[0;31mNameError\u001b[0m                                 Traceback (most recent call last)",
            "\u001b[0;32m<ipython-input-8-cc892bcd26bd>\u001b[0m in \u001b[0;36m<module>\u001b[0;34m()\u001b[0m\n\u001b[0;32m----> 1\u001b[0;31m \u001b[0mpredictions\u001b[0m \u001b[0;34m=\u001b[0m \u001b[0mmodel\u001b[0m\u001b[0;34m.\u001b[0m\u001b[0mpredict_classes\u001b[0m\u001b[0;34m(\u001b[0m\u001b[0mX\u001b[0m\u001b[0;34m)\u001b[0m\u001b[0;34m\u001b[0m\u001b[0;34m\u001b[0m\u001b[0m\n\u001b[0m",
            "\u001b[0;31mNameError\u001b[0m: name 'model' is not defined"
          ]
        }
      ]
    }
  ]
}