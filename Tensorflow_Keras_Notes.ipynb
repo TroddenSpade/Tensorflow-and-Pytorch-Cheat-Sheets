{
  "nbformat": 4,
  "nbformat_minor": 0,
  "metadata": {
    "colab": {
      "name": "Tensorflow-Keras Notes.ipynb",
      "provenance": []
    },
    "kernelspec": {
      "name": "python3",
      "display_name": "Python 3"
    },
    "language_info": {
      "name": "python"
    }
  },
  "cells": [
    {
      "cell_type": "markdown",
      "source": [
        "## Functions"
      ],
      "metadata": {
        "id": "VjXgUcGktvVV"
      }
    },
    {
      "cell_type": "code",
      "source": [
        "import tensorflow as tf"
      ],
      "metadata": {
        "id": "tHtd6_3uukps"
      },
      "execution_count": 19,
      "outputs": []
    },
    {
      "cell_type": "markdown",
      "source": [
        "### Reshape\n",
        "\n",
        "Reshapes a tensor.\n",
        "\n",
        "```\n",
        "tf.reshape(\n",
        "    tensor, shape, name=None\n",
        ")\n",
        "```"
      ],
      "metadata": {
        "id": "VP2e_BwdtzGj"
      }
    },
    {
      "cell_type": "code",
      "source": [
        "t1 = tf.constant([[1, 2, 3],[4, 5, 6]])\n",
        "print(t1.numpy())\n",
        "\n",
        "t2 = tf.reshape(t1, [6])\n",
        "print(t2.numpy())\n",
        "\n",
        "t3 = tf.reshape(t2, [3, 2])\n",
        "print(t3.numpy())"
      ],
      "metadata": {
        "colab": {
          "base_uri": "https://localhost:8080/"
        },
        "id": "f7DPVy68t_Py",
        "outputId": "60dcc560-5513-4e77-9e5c-accf5081b814"
      },
      "execution_count": 22,
      "outputs": [
        {
          "output_type": "stream",
          "name": "stdout",
          "text": [
            "[[1 2 3]\n",
            " [4 5 6]]\n",
            "[1 2 3 4 5 6]\n",
            "[[1 2]\n",
            " [3 4]\n",
            " [5 6]]\n"
          ]
        }
      ]
    },
    {
      "cell_type": "markdown",
      "source": [
        "### Range\n",
        "\n",
        "Creates a sequence of numbers.\n",
        "\n",
        "```\n",
        "tf.range(limit, delta=1, dtype=None, name='range')\n",
        "tf.range(start, limit, delta=1, dtype=None, name='range')\n",
        "```"
      ],
      "metadata": {
        "id": "qqfNwHPQu-Pq"
      }
    },
    {
      "cell_type": "code",
      "source": [
        "start = 3\n",
        "limit = 1\n",
        "delta = -0.5\n",
        "tf.range(start, limit, delta)"
      ],
      "metadata": {
        "colab": {
          "base_uri": "https://localhost:8080/"
        },
        "id": "7iQ5EjKfvGl9",
        "outputId": "ecb954c4-887a-44db-ac05-24888ed51a3e"
      },
      "execution_count": 23,
      "outputs": [
        {
          "output_type": "execute_result",
          "data": {
            "text/plain": [
              "<tf.Tensor: shape=(4,), dtype=float32, numpy=array([3. , 2.5, 2. , 1.5], dtype=float32)>"
            ]
          },
          "metadata": {},
          "execution_count": 23
        }
      ]
    },
    {
      "cell_type": "markdown",
      "source": [
        "## Layers"
      ],
      "metadata": {
        "id": "k-GwY-3tjLKP"
      }
    },
    {
      "cell_type": "code",
      "source": [
        "import tensorflow as tf"
      ],
      "metadata": {
        "id": "PKnQF1manVXL"
      },
      "execution_count": 9,
      "outputs": []
    },
    {
      "cell_type": "markdown",
      "source": [
        "### Dense\n",
        "\n",
        "```\n",
        "tf.keras.layers.Dense(\n",
        "    units, activation=None, use_bias=True,\n",
        "    kernel_initializer='glorot_uniform',\n",
        "    bias_initializer='zeros', kernel_regularizer=None,\n",
        "    bias_regularizer=None, activity_regularizer=None, kernel_constraint=None,\n",
        "    bias_constraint=None, **kwargs\n",
        ")\n",
        "```"
      ],
      "metadata": {
        "id": "S6eGIvudneQA"
      }
    },
    {
      "cell_type": "markdown",
      "source": [
        "### Conv2D\n",
        "\n",
        "```\n",
        "tf.keras.layers.Conv2D(\n",
        "    filters, kernel_size, strides=(1, 1), padding='valid',\n",
        "    data_format=None, dilation_rate=(1, 1), groups=1, activation=None,\n",
        "    use_bias=True, kernel_initializer='glorot_uniform',\n",
        "    bias_initializer='zeros', kernel_regularizer=None,\n",
        "    bias_regularizer=None, activity_regularizer=None, kernel_constraint=None,\n",
        "    bias_constraint=None, **kwargs\n",
        ")\n",
        "```"
      ],
      "metadata": {
        "id": "WWKY2rABnsEK"
      }
    },
    {
      "cell_type": "code",
      "source": [
        "# The inputs are 28x28 RGB images with `channels_last` and the batch size is 4.\n",
        "input_shape = (4, 28, 28, 3)\n",
        "x = tf.random.normal(input_shape)\n",
        "y = tf.keras.layers.Conv2D(2, 3, activation='relu', \n",
        "                           input_shape=input_shape[1:])(x)\n",
        "print(y.shape)"
      ],
      "metadata": {
        "colab": {
          "base_uri": "https://localhost:8080/"
        },
        "id": "Sjx0FpzjoMci",
        "outputId": "3d9fb180-14c1-4115-8529-80ba88f0338f"
      },
      "execution_count": 10,
      "outputs": [
        {
          "output_type": "stream",
          "name": "stdout",
          "text": [
            "(4, 26, 26, 2)\n"
          ]
        }
      ]
    },
    {
      "cell_type": "markdown",
      "source": [
        "### Dropout\n",
        "\n",
        "The Dropout layer randomly sets input units to 0 with a frequency of rate at each step during training time, which helps prevent overfitting. Inputs not set to $0$ are scaled up by $1/(1 - rate)$ such that the sum over all inputs is unchanged.\n",
        "\n",
        "```\n",
        "tf.keras.layers.Dropout(\n",
        "    rate, noise_shape=None, seed=None, **kwargs\n",
        ")\n",
        "```"
      ],
      "metadata": {
        "id": "CkL9qD7_sTer"
      }
    },
    {
      "cell_type": "code",
      "source": [
        "layer = tf.keras.layers.Dropout(.2, input_shape=(2,))\n",
        "data = tf.range(0, 10, 1, dtype=tf.float32)\n",
        "print(data)\n",
        "\n",
        "outputs = layer(data, training=True)\n",
        "print(outputs)"
      ],
      "metadata": {
        "colab": {
          "base_uri": "https://localhost:8080/"
        },
        "id": "tBWVeIRZs0ad",
        "outputId": "858d6913-6811-4f39-db05-509afe1ca5c1"
      },
      "execution_count": 13,
      "outputs": [
        {
          "output_type": "stream",
          "name": "stdout",
          "text": [
            "tf.Tensor([0. 1. 2. 3. 4. 5. 6. 7. 8. 9.], shape=(10,), dtype=float32)\n",
            "tf.Tensor([ 0.    1.25  2.5   3.75  0.    6.25  7.5   8.75 10.   11.25], shape=(10,), dtype=float32)\n"
          ]
        }
      ]
    },
    {
      "cell_type": "markdown",
      "source": [
        "### Activation Layer\n",
        "\n",
        "```\n",
        "tf.keras.layers.Activation(\n",
        "    activation, **kwargs\n",
        ")\n",
        "```\n",
        "\n",
        "*Activation function, such as tf.nn.relu, or string name of built-in activation function, such as \"relu\".*\n",
        "\n"
      ],
      "metadata": {
        "id": "j9wHG4aNn92z"
      }
    },
    {
      "cell_type": "markdown",
      "source": [
        "## Activation Functions\n",
        "\n",
        "\n",
        "List of Tensorflow's activation functions: [Module: tf.keras.activations](https://www.tensorflow.org/api_docs/python/tf/keras/activations)"
      ],
      "metadata": {
        "id": "54AcxmYxrfrz"
      }
    },
    {
      "cell_type": "markdown",
      "source": [
        "#### Linear\n",
        "\n",
        "```\n",
        "tf.keras.activations.linear(\n",
        "    x\n",
        ")\n",
        "```"
      ],
      "metadata": {
        "id": "3GIqb_ltpvMg"
      }
    },
    {
      "cell_type": "markdown",
      "source": [
        "#### ReLU\n",
        "\n",
        "```\n",
        "tf.keras.activations.relu(\n",
        "    x, alpha=0.0, max_value=None, threshold=0.0\n",
        ")\n",
        "```"
      ],
      "metadata": {
        "id": "KoklnvtbqLlL"
      }
    },
    {
      "cell_type": "markdown",
      "source": [
        "#### Sigmoid\n",
        "\n",
        "```\n",
        "tf.keras.activations.sigmoid(\n",
        "    x\n",
        ")\n",
        "```"
      ],
      "metadata": {
        "id": "IgyW5ucYq7uz"
      }
    },
    {
      "cell_type": "markdown",
      "source": [
        "#### Softmax\n",
        "\n",
        "```\n",
        "tf.keras.activations.softmax(\n",
        "    x, axis=-1\n",
        ")\n",
        "```\n",
        "The axis argument sets which axis of the input the function is applied along."
      ],
      "metadata": {
        "id": "bPobt0edrCab"
      }
    },
    {
      "cell_type": "markdown",
      "source": [
        "## Define Network"
      ],
      "metadata": {
        "id": "fEzZ1uIYEwtD"
      }
    },
    {
      "cell_type": "code",
      "execution_count": 1,
      "metadata": {
        "colab": {
          "base_uri": "https://localhost:8080/",
          "height": 183
        },
        "id": "a2g7XnBnNRqm",
        "outputId": "92e7f056-9601-4d51-b05a-fe2acac3ca26"
      },
      "outputs": [
        {
          "output_type": "error",
          "ename": "NameError",
          "evalue": "ignored",
          "traceback": [
            "\u001b[0;31m---------------------------------------------------------------------------\u001b[0m",
            "\u001b[0;31mNameError\u001b[0m                                 Traceback (most recent call last)",
            "\u001b[0;32m<ipython-input-1-f9893ab46df9>\u001b[0m in \u001b[0;36m<module>\u001b[0;34m()\u001b[0m\n\u001b[0;32m----> 1\u001b[0;31m \u001b[0mlayers\u001b[0m \u001b[0;34m=\u001b[0m \u001b[0;34m[\u001b[0m\u001b[0mDense\u001b[0m\u001b[0;34m(\u001b[0m\u001b[0;36m2\u001b[0m\u001b[0;34m)\u001b[0m\u001b[0;34m]\u001b[0m\u001b[0;34m\u001b[0m\u001b[0;34m\u001b[0m\u001b[0m\n\u001b[0m\u001b[1;32m      2\u001b[0m \u001b[0mmodel\u001b[0m \u001b[0;34m=\u001b[0m \u001b[0mSequential\u001b[0m\u001b[0;34m(\u001b[0m\u001b[0mlayers\u001b[0m\u001b[0;34m)\u001b[0m\u001b[0;34m\u001b[0m\u001b[0;34m\u001b[0m\u001b[0m\n",
            "\u001b[0;31mNameError\u001b[0m: name 'Dense' is not defined"
          ]
        }
      ],
      "source": [
        "layers = [Dense(2)]\n",
        "model = Sequential(layers)"
      ]
    },
    {
      "cell_type": "code",
      "source": [
        "model = Sequential()\n",
        "model.add(Dense(5, input_dim=2))\n",
        "model.add(Activation('relu'))\n",
        "model.add(Dense(1))\n",
        "model.add(Activation('sigmoid'))"
      ],
      "metadata": {
        "id": "qCjqQF3GE8j-"
      },
      "execution_count": null,
      "outputs": []
    },
    {
      "cell_type": "markdown",
      "source": [
        "##  Compile Network"
      ],
      "metadata": {
        "id": "EhTMfcZTFa4D"
      }
    },
    {
      "cell_type": "code",
      "source": [
        "model.compile(optimizer=✬sgd✬, loss=✬mean_squared_error✬)"
      ],
      "metadata": {
        "colab": {
          "base_uri": "https://localhost:8080/",
          "height": 130
        },
        "id": "QcfZV9yXFb_y",
        "outputId": "db4f7339-0389-4804-f299-0bcd8f3c97a5"
      },
      "execution_count": 2,
      "outputs": [
        {
          "output_type": "error",
          "ename": "SyntaxError",
          "evalue": "ignored",
          "traceback": [
            "\u001b[0;36m  File \u001b[0;32m\"<ipython-input-2-ab7434a12863>\"\u001b[0;36m, line \u001b[0;32m1\u001b[0m\n\u001b[0;31m    model.compile(optimizer=✬sgd✬, loss=✬mean_squared_error✬)\u001b[0m\n\u001b[0m                                ^\u001b[0m\n\u001b[0;31mSyntaxError\u001b[0m\u001b[0;31m:\u001b[0m invalid character in identifier\n"
          ]
        }
      ]
    },
    {
      "cell_type": "code",
      "source": [
        "lgorithm = SGD(lr=0.1, momentum=0.3)\n",
        "model.compile(optimizer=algorithm, loss=✬mean_squared_error✬)"
      ],
      "metadata": {
        "colab": {
          "base_uri": "https://localhost:8080/",
          "height": 130
        },
        "id": "QEk0hKWyFfOW",
        "outputId": "84855e79-1a21-4dc1-d973-27b68439e328"
      },
      "execution_count": 3,
      "outputs": [
        {
          "output_type": "error",
          "ename": "SyntaxError",
          "evalue": "ignored",
          "traceback": [
            "\u001b[0;36m  File \u001b[0;32m\"<ipython-input-3-b34de4cd7eb2>\"\u001b[0;36m, line \u001b[0;32m2\u001b[0m\n\u001b[0;31m    model.compile(optimizer=algorithm, loss=✬mean_squared_error✬)\u001b[0m\n\u001b[0m                                                               ^\u001b[0m\n\u001b[0;31mSyntaxError\u001b[0m\u001b[0;31m:\u001b[0m invalid character in identifier\n"
          ]
        }
      ]
    },
    {
      "cell_type": "markdown",
      "source": [
        "The most common optimization algorithm is stochastic gradient descent, but Keras also\n",
        "supports a suite of other state-of-the-art optimization algorithms that work well with little or\n",
        "no configuration. Perhaps the most commonly used optimization algorithms because of their\n",
        "generally better performance are:\n",
        "\n",
        "❼ Stochastic Gradient Descent, or sgd, that requires the tuning of a learning rate and\n",
        "momentum.\n",
        "\n",
        "❼ Adam, or adam, that requires the tuning of learning rate.\n",
        "\n",
        "❼ RMSprop, or rmsprop, that requires the tuning of learning rate.\n"
      ],
      "metadata": {
        "id": "iLO7lpVMFoGq"
      }
    },
    {
      "cell_type": "markdown",
      "source": [
        "## Fit Network"
      ],
      "metadata": {
        "id": "4aXxZ2QudSLp"
      }
    },
    {
      "cell_type": "code",
      "source": [
        "history = model.fit(X, y, batch_size=10, epochs=100, verbose=0)"
      ],
      "metadata": {
        "colab": {
          "base_uri": "https://localhost:8080/",
          "height": 165
        },
        "id": "HDZJrSGoFivF",
        "outputId": "2b789013-9f69-4ce9-9280-83191b60ac0a"
      },
      "execution_count": 4,
      "outputs": [
        {
          "output_type": "error",
          "ename": "NameError",
          "evalue": "ignored",
          "traceback": [
            "\u001b[0;31m---------------------------------------------------------------------------\u001b[0m",
            "\u001b[0;31mNameError\u001b[0m                                 Traceback (most recent call last)",
            "\u001b[0;32m<ipython-input-4-3a149bf65920>\u001b[0m in \u001b[0;36m<module>\u001b[0;34m()\u001b[0m\n\u001b[0;32m----> 1\u001b[0;31m \u001b[0mhistory\u001b[0m \u001b[0;34m=\u001b[0m \u001b[0mmodel\u001b[0m\u001b[0;34m.\u001b[0m\u001b[0mfit\u001b[0m\u001b[0;34m(\u001b[0m\u001b[0mX\u001b[0m\u001b[0;34m,\u001b[0m \u001b[0my\u001b[0m\u001b[0;34m,\u001b[0m \u001b[0mbatch_size\u001b[0m\u001b[0;34m=\u001b[0m\u001b[0;36m10\u001b[0m\u001b[0;34m,\u001b[0m \u001b[0mepochs\u001b[0m\u001b[0;34m=\u001b[0m\u001b[0;36m100\u001b[0m\u001b[0;34m,\u001b[0m \u001b[0mverbose\u001b[0m\u001b[0;34m=\u001b[0m\u001b[0;36m0\u001b[0m\u001b[0;34m)\u001b[0m\u001b[0;34m\u001b[0m\u001b[0;34m\u001b[0m\u001b[0m\n\u001b[0m",
            "\u001b[0;31mNameError\u001b[0m: name 'model' is not defined"
          ]
        }
      ]
    },
    {
      "cell_type": "markdown",
      "source": [
        "# Save Model"
      ],
      "metadata": {
        "id": "B-qCf4OKddfi"
      }
    },
    {
      "cell_type": "code",
      "source": [
        "model.save(✬final_model.h5✬)"
      ],
      "metadata": {
        "colab": {
          "base_uri": "https://localhost:8080/",
          "height": 130
        },
        "id": "ucotm97edV_E",
        "outputId": "52b23840-1e60-4c88-b7c8-16111428033a"
      },
      "execution_count": 5,
      "outputs": [
        {
          "output_type": "error",
          "ename": "SyntaxError",
          "evalue": "ignored",
          "traceback": [
            "\u001b[0;36m  File \u001b[0;32m\"<ipython-input-5-ca8d3f25a349>\"\u001b[0;36m, line \u001b[0;32m1\u001b[0m\n\u001b[0;31m    model.save(✬final_model.h5✬)\u001b[0m\n\u001b[0m                          ^\u001b[0m\n\u001b[0;31mSyntaxError\u001b[0m\u001b[0;31m:\u001b[0m invalid character in identifier\n"
          ]
        }
      ]
    },
    {
      "cell_type": "markdown",
      "source": [
        "# Load Model"
      ],
      "metadata": {
        "id": "oKZ1tBEldlrH"
      }
    },
    {
      "cell_type": "code",
      "source": [
        "rom keras.models import load_model\n",
        "model = load_model(✬final_model.h5✬)"
      ],
      "metadata": {
        "colab": {
          "base_uri": "https://localhost:8080/",
          "height": 130
        },
        "id": "eoRdQXQGdrZr",
        "outputId": "fbec446f-2e4d-46fd-97da-dc0aa3d455c3"
      },
      "execution_count": 7,
      "outputs": [
        {
          "output_type": "error",
          "ename": "SyntaxError",
          "evalue": "ignored",
          "traceback": [
            "\u001b[0;36m  File \u001b[0;32m\"<ipython-input-7-b46775662668>\"\u001b[0;36m, line \u001b[0;32m1\u001b[0m\n\u001b[0;31m    rom keras.models import load_model\u001b[0m\n\u001b[0m            ^\u001b[0m\n\u001b[0;31mSyntaxError\u001b[0m\u001b[0;31m:\u001b[0m invalid syntax\n"
          ]
        }
      ]
    },
    {
      "cell_type": "markdown",
      "source": [
        "# Evaluate Network"
      ],
      "metadata": {
        "id": "ScqPXs4ndsfY"
      }
    },
    {
      "cell_type": "code",
      "source": [
        "loss, accuracy = model.evaluate(X, y)"
      ],
      "metadata": {
        "colab": {
          "base_uri": "https://localhost:8080/",
          "height": 165
        },
        "id": "asVTtd-We8Bc",
        "outputId": "221a57fb-9264-4d5c-f56f-5d582e673d20"
      },
      "execution_count": 6,
      "outputs": [
        {
          "output_type": "error",
          "ename": "NameError",
          "evalue": "ignored",
          "traceback": [
            "\u001b[0;31m---------------------------------------------------------------------------\u001b[0m",
            "\u001b[0;31mNameError\u001b[0m                                 Traceback (most recent call last)",
            "\u001b[0;32m<ipython-input-6-28638be0aca1>\u001b[0m in \u001b[0;36m<module>\u001b[0;34m()\u001b[0m\n\u001b[0;32m----> 1\u001b[0;31m \u001b[0mloss\u001b[0m\u001b[0;34m,\u001b[0m \u001b[0maccuracy\u001b[0m \u001b[0;34m=\u001b[0m \u001b[0mmodel\u001b[0m\u001b[0;34m.\u001b[0m\u001b[0mevaluate\u001b[0m\u001b[0;34m(\u001b[0m\u001b[0mX\u001b[0m\u001b[0;34m,\u001b[0m \u001b[0my\u001b[0m\u001b[0;34m)\u001b[0m\u001b[0;34m\u001b[0m\u001b[0;34m\u001b[0m\u001b[0m\n\u001b[0m",
            "\u001b[0;31mNameError\u001b[0m: name 'model' is not defined"
          ]
        }
      ]
    },
    {
      "cell_type": "markdown",
      "source": [
        "## Make Predictions"
      ],
      "metadata": {
        "id": "eMEPwyyvfGaZ"
      }
    },
    {
      "cell_type": "code",
      "source": [
        "predictions = model.predict(X)"
      ],
      "metadata": {
        "id": "zqedHvc7e8f0"
      },
      "execution_count": null,
      "outputs": []
    },
    {
      "cell_type": "code",
      "source": [
        "predictions = model.predict_classes(X)"
      ],
      "metadata": {
        "colab": {
          "base_uri": "https://localhost:8080/",
          "height": 165
        },
        "id": "SyWj-N38fVJl",
        "outputId": "8334cb10-7ecc-42ae-efa7-f5e96d0dc494"
      },
      "execution_count": 8,
      "outputs": [
        {
          "output_type": "error",
          "ename": "NameError",
          "evalue": "ignored",
          "traceback": [
            "\u001b[0;31m---------------------------------------------------------------------------\u001b[0m",
            "\u001b[0;31mNameError\u001b[0m                                 Traceback (most recent call last)",
            "\u001b[0;32m<ipython-input-8-cc892bcd26bd>\u001b[0m in \u001b[0;36m<module>\u001b[0;34m()\u001b[0m\n\u001b[0;32m----> 1\u001b[0;31m \u001b[0mpredictions\u001b[0m \u001b[0;34m=\u001b[0m \u001b[0mmodel\u001b[0m\u001b[0;34m.\u001b[0m\u001b[0mpredict_classes\u001b[0m\u001b[0;34m(\u001b[0m\u001b[0mX\u001b[0m\u001b[0;34m)\u001b[0m\u001b[0;34m\u001b[0m\u001b[0;34m\u001b[0m\u001b[0m\n\u001b[0m",
            "\u001b[0;31mNameError\u001b[0m: name 'model' is not defined"
          ]
        }
      ]
    }
  ]
}